{
 "cells": [
  {
   "cell_type": "code",
   "execution_count": 1,
   "metadata": {},
   "outputs": [],
   "source": [
    "from nltk.corpus import words\r\n",
    "\r\n",
    "from cypher import BES, Enigma, Vigenere"
   ]
  },
  {
   "cell_type": "markdown",
   "metadata": {},
   "source": [
    "# Transposition 2"
   ]
  },
  {
   "cell_type": "code",
   "execution_count": 2,
   "metadata": {},
   "outputs": [
    {
     "name": "stdout",
     "output_type": "stream",
     "text": [
      "THEJEWELSAREHIDDENBENEATHTHEELMTREE\n"
     ]
    }
   ],
   "source": [
    "cipher_a = 'TEEESRHDEBNAHHEMRE'\r\n",
    "cipher_b = 'HJWLAEIDNEETTELTE'\r\n",
    "plaintext = []\r\n",
    "for i in range(len(cipher_b)):\r\n",
    "    plaintext.append(cipher_a[i])\r\n",
    "    plaintext.append(cipher_b[i])\r\n",
    "plaintext.append(cipher_a[-1])\r\n",
    "print(''.join(plaintext))"
   ]
  },
  {
   "cell_type": "markdown",
   "metadata": {},
   "source": [
    "# Transposition 6"
   ]
  },
  {
   "cell_type": "code",
   "execution_count": 3,
   "metadata": {},
   "outputs": [
    {
     "name": "stdout",
     "output_type": "stream",
     "text": [
      "THEMENPLANAMUTINYRETURNTOBRISTOL\n"
     ]
    }
   ],
   "source": [
    "ciphertext = 'TEAUYUOSHNNTRRBTEPAIENROMLMNTTIL'\r\n",
    "steps = (8, 8, 8, 9)\r\n",
    "pos = 0\r\n",
    "visited = set()\r\n",
    "plaintext = []\r\n",
    "for i in range(len(ciphertext)):\r\n",
    "    if pos in visited:\r\n",
    "        print('Loop!')\r\n",
    "        break\r\n",
    "    plaintext.append(ciphertext[pos])\r\n",
    "    visited.add(pos)\r\n",
    "    pos += steps[i%len(steps)]\r\n",
    "    pos %= len(ciphertext)\r\n",
    "print(''.join(plaintext))"
   ]
  },
  {
   "cell_type": "markdown",
   "metadata": {},
   "source": [
    "# Polyalphabetic Substitution 1"
   ]
  },
  {
   "cell_type": "code",
   "execution_count": 4,
   "metadata": {},
   "outputs": [
    {
     "data": {
      "text/plain": [
       "'THUNDERANDLIGHTNING'"
      ]
     },
     "execution_count": 4,
     "metadata": {},
     "output_type": "execute_result"
    }
   ],
   "source": [
    "key = Vigenere('FLASH')\r\n",
    "key.decrypt('ZTVGLKDBGLRUHABTUOZ')"
   ]
  },
  {
   "cell_type": "markdown",
   "metadata": {},
   "source": [
    "# Polyalphabetic Substitution 2"
   ]
  },
  {
   "cell_type": "code",
   "execution_count": 5,
   "metadata": {},
   "outputs": [],
   "source": [
    "def next_key() -> str:\r\n",
    "    for i in range(ord('A'), ord('Z')+1):\r\n",
    "        for j in range(ord('A'), ord('Z')+1):\r\n",
    "            for k in range(ord('A'), ord('Z')+1):\r\n",
    "                key = Vigenere(chr(i)+chr(j)+chr(k))\r\n",
    "                yield key.decrypt('JCWSVLIVLVGSJJFJCWCVL')"
   ]
  },
  {
   "cell_type": "code",
   "execution_count": 6,
   "metadata": {},
   "outputs": [
    {
     "name": "stdout",
     "output_type": "stream",
     "text": [
      "401\n"
     ]
    }
   ],
   "source": [
    "filter_size = 4\r\n",
    "filters = set(word.upper() for word in words.words() if len(word) == filter_size)\r\n",
    "threes = set(word.upper() for word in words.words() if len(word) == 3)\r\n",
    "candidates = []\r\n",
    "for decryption in next_key():\r\n",
    "    if decryption[-3:] not in threes:\r\n",
    "        continue\r\n",
    "    for i in range(len(decryption)-filter_size):\r\n",
    "        if decryption[i:i+filter_size] in filters:\r\n",
    "            candidates.append((decryption[i:i+filter_size], decryption))\r\n",
    "            break\r\n",
    "print(len(candidates))\r\n",
    "# candidates"
   ]
  },
  {
   "cell_type": "code",
   "execution_count": 7,
   "metadata": {},
   "outputs": [
    {
     "data": {
      "text/plain": [
       "'THECATSATFLATONTHEMAT'"
      ]
     },
     "execution_count": 7,
     "metadata": {},
     "output_type": "execute_result"
    }
   ],
   "source": [
    "key = Vigenere('PUR')\r\n",
    "key.decrypt('JCWSVLIVLVGSJJFJCWCVL')"
   ]
  },
  {
   "cell_type": "markdown",
   "metadata": {},
   "source": [
    "# Mechanised Cryptography 1"
   ]
  },
  {
   "cell_type": "code",
   "execution_count": 8,
   "metadata": {},
   "outputs": [],
   "source": [
    "machine = Enigma()\r\n",
    "machine.add_wheel('UWYGADFPVZBECKMTHXSLRINQOJ')\r\n",
    "machine.set_reflector('YRUHQSLDPXNGOKMIEBFZCWVJAT')"
   ]
  },
  {
   "cell_type": "code",
   "execution_count": 9,
   "metadata": {},
   "outputs": [
    {
     "data": {
      "text/plain": [
       "'ULTRA'"
      ]
     },
     "execution_count": 9,
     "metadata": {},
     "output_type": "execute_result"
    }
   ],
   "source": [
    "machine.engage('ZYDNI')"
   ]
  },
  {
   "cell_type": "markdown",
   "metadata": {},
   "source": [
    "# Mechanised Cryptography 2"
   ]
  },
  {
   "cell_type": "code",
   "execution_count": 10,
   "metadata": {},
   "outputs": [],
   "source": [
    "machine = Enigma()\r\n",
    "machine.add_wheel('UWYGADFPVZBECKMTHXSLRINQOJ', offset=4)\r\n",
    "machine.set_reflector('YRUHQSLDPXNGOKMIEBFZCWVJAT')"
   ]
  },
  {
   "cell_type": "code",
   "execution_count": 11,
   "metadata": {},
   "outputs": [
    {
     "data": {
      "text/plain": [
       "'XVPURPLE'"
      ]
     },
     "execution_count": 11,
     "metadata": {},
     "output_type": "execute_result"
    }
   ],
   "source": [
    "machine.engage('QHSGUWIG')"
   ]
  },
  {
   "cell_type": "markdown",
   "metadata": {},
   "source": [
    "# Mechanised Cryptography 3"
   ]
  },
  {
   "cell_type": "code",
   "execution_count": 12,
   "metadata": {},
   "outputs": [],
   "source": [
    "machine = Enigma()\r\n",
    "machine.set_plugboard('AB SZ UY GH LQ EN')\r\n",
    "machine.add_wheel('AJPCZWRLFBDKOTYUQGENHXMIVS')\r\n",
    "machine.add_wheel('UWYGADFPVZBECKMTHXSLRINQOJ', offset=4)\r\n",
    "machine.add_wheel('TAGBPCSDQEUFVNZHYIXJWLRKOM', offset=1)\r\n",
    "machine.set_reflector('YRUHQSLDPXNGOKMIEBFZCWVJAT')"
   ]
  },
  {
   "cell_type": "code",
   "execution_count": 13,
   "metadata": {},
   "outputs": [
    {
     "data": {
      "text/plain": [
       "'BLITZKRIEG'"
      ]
     },
     "execution_count": 13,
     "metadata": {},
     "output_type": "execute_result"
    }
   ],
   "source": [
    "machine.engage('GYHRVFLRXY')"
   ]
  },
  {
   "cell_type": "code",
   "execution_count": 14,
   "metadata": {},
   "outputs": [
    {
     "name": "stdout",
     "output_type": "stream",
     "text": [
      "ZGWINVCIJK\n",
      "HELLOWORLD\n"
     ]
    }
   ],
   "source": [
    "x = machine.engage('Hello world')\r\n",
    "print(x)\r\n",
    "y = machine.engage(x)\r\n",
    "print(y)"
   ]
  },
  {
   "cell_type": "markdown",
   "metadata": {},
   "source": [
    "# Digital Cryptography 2"
   ]
  },
  {
   "cell_type": "code",
   "execution_count": 15,
   "metadata": {},
   "outputs": [
    {
     "name": "stdout",
     "output_type": "stream",
     "text": [
      "w\n",
      "o\n",
      "r\n",
      "l\n",
      "d\n"
     ]
    }
   ],
   "source": [
    "binary = [0b00111111, 0b00101010, 0b00111110, 0b00100000, 0b00101011]\r\n",
    "hello = 'HELLO'\r\n",
    "for i in range(5):\r\n",
    "    print(chr(ord(hello[i])^binary[i]))"
   ]
  },
  {
   "cell_type": "markdown",
   "metadata": {},
   "source": [
    "# Digital Cryptography 3"
   ]
  },
  {
   "cell_type": "code",
   "execution_count": 16,
   "metadata": {},
   "outputs": [
    {
     "data": {
      "text/plain": [
       "'buycufi'"
      ]
     },
     "execution_count": 16,
     "metadata": {},
     "output_type": "execute_result"
    }
   ],
   "source": [
    "key = [2, 1, 3, 1, 2, 5, 7, 2]\r\n",
    "cipher = ['01100010', '01110101', '01111001', '01100011', '01110101', '01100110', '01101001']\r\n",
    "ciphertext = ''.join(chr(int(b, 2)) for b in cipher)\r\n",
    "ciphertext"
   ]
  },
  {
   "cell_type": "code",
   "execution_count": 17,
   "metadata": {},
   "outputs": [
    {
     "data": {
      "text/plain": [
       "'bitwise'"
      ]
     },
     "execution_count": 17,
     "metadata": {},
     "output_type": "execute_result"
    }
   ],
   "source": [
    "plain = [[] for _ in range(7)]\r\n",
    "for i in range(len(key)):\r\n",
    "    for j in range(len(cipher)):\r\n",
    "        plain[j].append(cipher[(j-key[i])%len(cipher)][i])\r\n",
    "for i in range(len(plain)):\r\n",
    "    plain[i] = ''.join(plain[i])\r\n",
    "plaintext = ''.join(chr(int(b, 2)) for b in plain)\r\n",
    "plaintext"
   ]
  },
  {
   "cell_type": "markdown",
   "metadata": {},
   "source": [
    "# Digital Cryptography 5"
   ]
  },
  {
   "cell_type": "code",
   "execution_count": 18,
   "metadata": {},
   "outputs": [
    {
     "data": {
      "text/plain": [
       "'FN'"
      ]
     },
     "execution_count": 18,
     "metadata": {},
     "output_type": "execute_result"
    }
   ],
   "source": [
    "key = BES(['YS', 'BX'])\r\n",
    "key.decrypt(chr(0b10010111)+chr(0b10110101))"
   ]
  },
  {
   "cell_type": "code",
   "execution_count": 19,
   "metadata": {},
   "outputs": [
    {
     "name": "stdout",
     "output_type": "stream",
     "text": [
      "ã¤Ô*W þÖó©þ-YÌ\n",
      "This is a test.\n"
     ]
    }
   ],
   "source": [
    "x = BES(['TE', 'ST', 'IN', 'GT', 'HI', 'SO', 'UT'])\r\n",
    "y = x.encrypt('This is a test.')\r\n",
    "print(y)\r\n",
    "z = x.decrypt(y)\r\n",
    "print(z)"
   ]
  }
 ],
 "metadata": {
  "interpreter": {
   "hash": "b170daffc966f5f9df28da86e9f5335ab0e92a6b0b144a0f4f4b87bd4331f06b"
  },
  "kernelspec": {
   "display_name": "Python 3.9.6 64-bit ('.venv': venv)",
   "name": "python3"
  },
  "language_info": {
   "codemirror_mode": {
    "name": "ipython",
    "version": 3
   },
   "file_extension": ".py",
   "mimetype": "text/x-python",
   "name": "python",
   "nbconvert_exporter": "python",
   "pygments_lexer": "ipython3",
   "version": "3.9.6"
  },
  "orig_nbformat": 4
 },
 "nbformat": 4,
 "nbformat_minor": 2
}