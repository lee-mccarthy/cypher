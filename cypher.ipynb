{
 "cells": [
  {
   "cell_type": "markdown",
   "source": [
    "# Transposition 2"
   ],
   "metadata": {}
  },
  {
   "cell_type": "code",
   "execution_count": 1,
   "source": [
    "cipher_a = 'TEEESRHDEBNAHHEMRE'\r\n",
    "cipher_b = 'HJWLAEIDNEETTELTE'\r\n",
    "plaintext = []\r\n",
    "for i in range(len(cipher_b)):\r\n",
    "    plaintext.append(cipher_a[i])\r\n",
    "    plaintext.append(cipher_b[i])\r\n",
    "plaintext.append(cipher_a[-1])\r\n",
    "print(''.join(plaintext))"
   ],
   "outputs": [
    {
     "output_type": "stream",
     "name": "stdout",
     "text": [
      "THEJEWELSAREHIDDENBENEATHTHEELMTREE\n"
     ]
    }
   ],
   "metadata": {}
  },
  {
   "cell_type": "markdown",
   "source": [
    "# Transposition 6"
   ],
   "metadata": {}
  },
  {
   "cell_type": "code",
   "execution_count": 2,
   "source": [
    "ciphertext = 'TEAUYUOSHNNTRRBTEPAIENROMLMNTTIL'\r\n",
    "steps = (8, 8, 8, 9)\r\n",
    "pos = 0\r\n",
    "visited = set()\r\n",
    "plaintext = []\r\n",
    "for i in range(len(ciphertext)):\r\n",
    "    if pos in visited:\r\n",
    "        print('Loop!')\r\n",
    "        break\r\n",
    "    plaintext.append(ciphertext[pos])\r\n",
    "    visited.add(pos)\r\n",
    "    pos += steps[i%len(steps)]\r\n",
    "    pos %= len(ciphertext)\r\n",
    "print(''.join(plaintext))"
   ],
   "outputs": [
    {
     "output_type": "stream",
     "name": "stdout",
     "text": [
      "THEMENPLANAMUTINYRETURNTOBRISTOL\n"
     ]
    }
   ],
   "metadata": {}
  },
  {
   "cell_type": "markdown",
   "source": [
    "# Polyalphabetic Substitution 1"
   ],
   "metadata": {}
  },
  {
   "cell_type": "code",
   "execution_count": 3,
   "source": [
    "from cypher import Vigenere"
   ],
   "outputs": [],
   "metadata": {}
  },
  {
   "cell_type": "code",
   "execution_count": 4,
   "source": [
    "key = Vigenere('FLASH')\r\n",
    "key.decrypt('ZTVGLKDBGLRUHABTUOZ')"
   ],
   "outputs": [
    {
     "output_type": "execute_result",
     "data": {
      "text/plain": [
       "'THUNDERANDLIGHTNING'"
      ]
     },
     "metadata": {},
     "execution_count": 4
    }
   ],
   "metadata": {}
  },
  {
   "cell_type": "markdown",
   "source": [
    "# Polyalphabetic Substitution 2"
   ],
   "metadata": {}
  },
  {
   "cell_type": "code",
   "execution_count": 5,
   "source": [
    "from nltk.corpus import words\r\n",
    "\r\n",
    "from cypher import Vigenere"
   ],
   "outputs": [],
   "metadata": {}
  },
  {
   "cell_type": "code",
   "execution_count": 6,
   "source": [
    "def next_key() -> str:\r\n",
    "    for i in range(ord('A'), ord('Z')+1):\r\n",
    "        for j in range(ord('A'), ord('Z')+1):\r\n",
    "            for k in range(ord('A'), ord('Z')+1):\r\n",
    "                key = Vigenere(chr(i)+chr(j)+chr(k))\r\n",
    "                yield key.decrypt('JCWSVLIVLVGSJJFJCWCVL')"
   ],
   "outputs": [],
   "metadata": {}
  },
  {
   "cell_type": "code",
   "execution_count": 7,
   "source": [
    "filter_size = 4\r\n",
    "filters = set(word.upper() for word in words.words() if len(word) == filter_size)\r\n",
    "threes = set(word.upper() for word in words.words() if len(word) == 3)\r\n",
    "candidates = []\r\n",
    "for decryption in next_key():\r\n",
    "    if decryption[-3:] not in threes:\r\n",
    "        continue\r\n",
    "    for i in range(len(decryption)-filter_size):\r\n",
    "        if decryption[i:i+filter_size] in filters:\r\n",
    "            candidates.append((decryption[i:i+filter_size], decryption))\r\n",
    "            break\r\n",
    "print(len(candidates))\r\n",
    "# candidates"
   ],
   "outputs": [
    {
     "output_type": "stream",
     "name": "stdout",
     "text": [
      "401\n"
     ]
    }
   ],
   "metadata": {}
  },
  {
   "cell_type": "code",
   "execution_count": 8,
   "source": [
    "key = Vigenere('PUR')\r\n",
    "key.decrypt('JCWSVLIVLVGSJJFJCWCVL')"
   ],
   "outputs": [
    {
     "output_type": "execute_result",
     "data": {
      "text/plain": [
       "'THECATSATFLATONTHEMAT'"
      ]
     },
     "metadata": {},
     "execution_count": 8
    }
   ],
   "metadata": {}
  },
  {
   "cell_type": "markdown",
   "source": [
    "# Mechanised Cryptography 1"
   ],
   "metadata": {}
  },
  {
   "cell_type": "code",
   "execution_count": 9,
   "source": [
    "from cypher import Enigma"
   ],
   "outputs": [],
   "metadata": {}
  },
  {
   "cell_type": "code",
   "execution_count": 10,
   "source": [
    "machine = Enigma()\r\n",
    "machine.add_wheel('UWYGADFPVZBECKMTHXSLRINQOJ')\r\n",
    "machine.set_reflector('YRUHQSLDPXNGOKMIEBFZCWVJAT')"
   ],
   "outputs": [],
   "metadata": {}
  },
  {
   "cell_type": "code",
   "execution_count": 11,
   "source": [
    "machine.engage('ZYDNI')"
   ],
   "outputs": [
    {
     "output_type": "execute_result",
     "data": {
      "text/plain": [
       "'ULTRA'"
      ]
     },
     "metadata": {},
     "execution_count": 11
    }
   ],
   "metadata": {}
  },
  {
   "cell_type": "markdown",
   "source": [
    "# Mechanised Cryptography 2"
   ],
   "metadata": {}
  },
  {
   "cell_type": "code",
   "execution_count": 12,
   "source": [
    "from cypher import Enigma"
   ],
   "outputs": [],
   "metadata": {}
  },
  {
   "cell_type": "code",
   "execution_count": 13,
   "source": [
    "machine = Enigma()\r\n",
    "machine.add_wheel('UWYGADFPVZBECKMTHXSLRINQOJ', offset=4)\r\n",
    "machine.set_reflector('YRUHQSLDPXNGOKMIEBFZCWVJAT')"
   ],
   "outputs": [],
   "metadata": {}
  },
  {
   "cell_type": "code",
   "execution_count": 14,
   "source": [
    "machine.engage('QHSGUWIG')"
   ],
   "outputs": [
    {
     "output_type": "execute_result",
     "data": {
      "text/plain": [
       "'XVPURPLE'"
      ]
     },
     "metadata": {},
     "execution_count": 14
    }
   ],
   "metadata": {}
  },
  {
   "cell_type": "markdown",
   "source": [
    "# Mechanised Cryptography 3"
   ],
   "metadata": {}
  },
  {
   "cell_type": "code",
   "execution_count": 15,
   "source": [
    "from cypher import Enigma"
   ],
   "outputs": [],
   "metadata": {}
  },
  {
   "cell_type": "code",
   "execution_count": 16,
   "source": [
    "machine = Enigma()\r\n",
    "machine.set_plugboard('AB SZ UY GH LQ EN')\r\n",
    "machine.add_wheel('AJPCZWRLFBDKOTYUQGENHXMIVS')\r\n",
    "machine.add_wheel('UWYGADFPVZBECKMTHXSLRINQOJ', offset=4)\r\n",
    "machine.add_wheel('TAGBPCSDQEUFVNZHYIXJWLRKOM', offset=1)\r\n",
    "machine.set_reflector('YRUHQSLDPXNGOKMIEBFZCWVJAT')"
   ],
   "outputs": [],
   "metadata": {}
  },
  {
   "cell_type": "code",
   "execution_count": 17,
   "source": [
    "machine.engage('GYHRVFLRXY')"
   ],
   "outputs": [
    {
     "output_type": "execute_result",
     "data": {
      "text/plain": [
       "'BLITZKRIEG'"
      ]
     },
     "metadata": {},
     "execution_count": 17
    }
   ],
   "metadata": {}
  },
  {
   "cell_type": "code",
   "execution_count": 18,
   "source": [
    "x = machine.engage('Hello world')\r\n",
    "print(x)\r\n",
    "y = machine.engage(x)\r\n",
    "print(y)"
   ],
   "outputs": [
    {
     "output_type": "stream",
     "name": "stdout",
     "text": [
      "ZGWINVCIJK\n",
      "HELLOWORLD\n"
     ]
    }
   ],
   "metadata": {}
  },
  {
   "cell_type": "markdown",
   "source": [
    "# Digital Cryptography 2"
   ],
   "metadata": {}
  },
  {
   "cell_type": "code",
   "execution_count": 19,
   "source": [
    "binary = [0b00111111, 0b00101010, 0b00111110, 0b00100000, 0b00101011]\r\n",
    "hello = 'HELLO'\r\n",
    "for i in range(5):\r\n",
    "    print(chr(ord(hello[i])^binary[i]))"
   ],
   "outputs": [
    {
     "output_type": "stream",
     "name": "stdout",
     "text": [
      "w\n",
      "o\n",
      "r\n",
      "l\n",
      "d\n"
     ]
    }
   ],
   "metadata": {}
  },
  {
   "cell_type": "markdown",
   "source": [
    "# Digital Cryptography 3"
   ],
   "metadata": {}
  },
  {
   "cell_type": "code",
   "execution_count": 20,
   "source": [
    "key = [2, 1, 3, 1, 2, 5, 7, 2]\r\n",
    "cipher = ['01100010', '01110101', '01111001', '01100011', '01110101', '01100110', '01101001']\r\n",
    "ciphertext = ''.join(chr(int(b, 2)) for b in cipher)\r\n",
    "ciphertext"
   ],
   "outputs": [
    {
     "output_type": "execute_result",
     "data": {
      "text/plain": [
       "'buycufi'"
      ]
     },
     "metadata": {},
     "execution_count": 20
    }
   ],
   "metadata": {}
  },
  {
   "cell_type": "code",
   "execution_count": 21,
   "source": [
    "plain = [[] for _ in range(7)]\r\n",
    "for i in range(len(key)):\r\n",
    "    for j in range(len(cipher)):\r\n",
    "        plain[j].append(cipher[(j-key[i])%len(cipher)][i])\r\n",
    "for i in range(len(plain)):\r\n",
    "    plain[i] = ''.join(plain[i])\r\n",
    "plaintext = ''.join(chr(int(b, 2)) for b in plain)\r\n",
    "plaintext"
   ],
   "outputs": [
    {
     "output_type": "execute_result",
     "data": {
      "text/plain": [
       "'bitwise'"
      ]
     },
     "metadata": {},
     "execution_count": 21
    }
   ],
   "metadata": {}
  },
  {
   "cell_type": "markdown",
   "source": [
    "# Digital Cryptography 5"
   ],
   "metadata": {}
  },
  {
   "cell_type": "code",
   "execution_count": 22,
   "source": [
    "from cypher import BES"
   ],
   "outputs": [],
   "metadata": {}
  },
  {
   "cell_type": "code",
   "execution_count": 23,
   "source": [
    "key = BES(['YS', 'BX'])\r\n",
    "key.decrypt(chr(0b10010111)+chr(0b10110101))"
   ],
   "outputs": [
    {
     "output_type": "execute_result",
     "data": {
      "text/plain": [
       "'FN'"
      ]
     },
     "metadata": {},
     "execution_count": 23
    }
   ],
   "metadata": {}
  },
  {
   "cell_type": "code",
   "execution_count": 24,
   "source": [
    "x = BES(['TE', 'ST', 'IN', 'GT', 'HI', 'SO', 'UT'])\r\n",
    "y = x.encrypt('This is a test.')\r\n",
    "print(y)\r\n",
    "z = x.decrypt(y)\r\n",
    "print(z)"
   ],
   "outputs": [
    {
     "output_type": "stream",
     "name": "stdout",
     "text": [
      "ã¤Ô*W þÖó©þ-YÌ\n",
      "This is a test.\n"
     ]
    }
   ],
   "metadata": {}
  }
 ],
 "metadata": {
  "interpreter": {
   "hash": "b170daffc966f5f9df28da86e9f5335ab0e92a6b0b144a0f4f4b87bd4331f06b"
  },
  "kernelspec": {
   "display_name": "Python 3.9.6 64-bit ('.venv': venv)",
   "name": "python3"
  },
  "language_info": {
   "codemirror_mode": {
    "name": "ipython",
    "version": 3
   },
   "file_extension": ".py",
   "mimetype": "text/x-python",
   "name": "python",
   "nbconvert_exporter": "python",
   "pygments_lexer": "ipython3",
   "version": "3.9.6"
  },
  "orig_nbformat": 4
 },
 "nbformat": 4,
 "nbformat_minor": 2
}