{
 "cells": [
  {
   "cell_type": "markdown",
   "source": [
    "# Transposition 2"
   ],
   "metadata": {}
  },
  {
   "cell_type": "code",
   "execution_count": 1,
   "source": [
    "cipher_a = 'TEEESRHDEBNAHHEMRE'\r\n",
    "cipher_b = 'HJWLAEIDNEETTELTE'\r\n",
    "plaintext = []\r\n",
    "for i in range(len(cipher_b)):\r\n",
    "    plaintext.append(cipher_a[i])\r\n",
    "    plaintext.append(cipher_b[i])\r\n",
    "plaintext.append(cipher_a[-1])\r\n",
    "print(''.join(plaintext))"
   ],
   "outputs": [
    {
     "output_type": "stream",
     "name": "stdout",
     "text": [
      "THEJEWELSAREHIDDENBENEATHTHEELMTREE\n"
     ]
    }
   ],
   "metadata": {}
  },
  {
   "cell_type": "markdown",
   "source": [
    "# Transposition 6"
   ],
   "metadata": {}
  },
  {
   "cell_type": "code",
   "execution_count": 2,
   "source": [
    "ciphertext = 'TEAUYUOSHNNTRRBTEPAIENROMLMNTTIL'\r\n",
    "steps = (8, 8, 8, 9)\r\n",
    "pos = 0\r\n",
    "visited = set()\r\n",
    "plaintext = []\r\n",
    "for i in range(len(ciphertext)):\r\n",
    "    if pos in visited:\r\n",
    "        print('Loop!')\r\n",
    "        break\r\n",
    "    plaintext.append(ciphertext[pos])\r\n",
    "    visited.add(pos)\r\n",
    "    pos += steps[i%len(steps)]\r\n",
    "    pos %= len(ciphertext)\r\n",
    "print(''.join(plaintext))"
   ],
   "outputs": [
    {
     "output_type": "stream",
     "name": "stdout",
     "text": [
      "THEMENPLANAMUTINYRETURNTOBRISTOL\n"
     ]
    }
   ],
   "metadata": {}
  },
  {
   "cell_type": "markdown",
   "source": [
    "# Polyalphabetic Substitution 1"
   ],
   "metadata": {}
  },
  {
   "cell_type": "code",
   "execution_count": 3,
   "source": [
    "from cypher import Vigenere"
   ],
   "outputs": [],
   "metadata": {}
  },
  {
   "cell_type": "code",
   "execution_count": 4,
   "source": [
    "key = Vigenere('FLASH')\r\n",
    "key.decrypt('ZTVGLKDBGLRUHABTUOZ')"
   ],
   "outputs": [
    {
     "output_type": "execute_result",
     "data": {
      "text/plain": [
       "'THUNDERANDLIGHTNING'"
      ]
     },
     "metadata": {},
     "execution_count": 4
    }
   ],
   "metadata": {}
  },
  {
   "cell_type": "markdown",
   "source": [
    "# Polyalphabetic Substitution 2"
   ],
   "metadata": {}
  },
  {
   "cell_type": "code",
   "execution_count": 5,
   "source": [
    "from nltk.corpus import words\r\n",
    "\r\n",
    "from cypher import Vigenere"
   ],
   "outputs": [],
   "metadata": {}
  },
  {
   "cell_type": "code",
   "execution_count": 6,
   "source": [
    "def next_key(ciphertext: str) -> str:\r\n",
    "    for i in range(ord('A'), ord('Z')+1):\r\n",
    "        for j in range(ord('A'), ord('Z')+1):\r\n",
    "            for k in range(ord('A'), ord('Z')+1):\r\n",
    "                key = Vigenere(chr(i)+chr(j)+chr(k))\r\n",
    "                yield key.decrypt(ciphertext)"
   ],
   "outputs": [],
   "metadata": {}
  },
  {
   "cell_type": "code",
   "execution_count": 7,
   "source": [
    "filter_size = 4\r\n",
    "filters = set(word.upper() for word in words.words() if len(word) == filter_size)\r\n",
    "threes = set(word.upper() for word in words.words() if len(word) == 3)\r\n",
    "candidates = []\r\n",
    "for decryption in next_key('JCWSVLIVLVGSJJFJCWCVL'):\r\n",
    "    if decryption[-3:] not in threes:\r\n",
    "        continue\r\n",
    "    for i in range(len(decryption)-filter_size):\r\n",
    "        if decryption[i:i+filter_size] in filters:\r\n",
    "            candidates.append((decryption[i:i+filter_size], decryption))\r\n",
    "            break\r\n",
    "print(len(candidates))\r\n",
    "# candidates"
   ],
   "outputs": [
    {
     "output_type": "stream",
     "name": "stdout",
     "text": [
      "401\n"
     ]
    }
   ],
   "metadata": {}
  },
  {
   "cell_type": "code",
   "execution_count": 8,
   "source": [
    "key = Vigenere('PUR')\r\n",
    "key.decrypt('JCWSVLIVLVGSJJFJCWCVL')"
   ],
   "outputs": [
    {
     "output_type": "execute_result",
     "data": {
      "text/plain": [
       "'THECATSATFLATONTHEMAT'"
      ]
     },
     "metadata": {},
     "execution_count": 8
    }
   ],
   "metadata": {}
  },
  {
   "cell_type": "markdown",
   "source": [
    "# Polyalphabetic Substitution 3"
   ],
   "metadata": {}
  },
  {
   "cell_type": "code",
   "execution_count": 9,
   "source": [
    "import re\r\n",
    "from collections import Counter\r\n",
    "\r\n",
    "from nltk.corpus import words\r\n",
    "\r\n",
    "from cypher import Vigenere"
   ],
   "outputs": [],
   "metadata": {}
  },
  {
   "cell_type": "code",
   "execution_count": 10,
   "source": [
    "def next_key(ciphertext: str) -> str:\r\n",
    "    for i in range(ord('A'), ord('Z')+1):\r\n",
    "        for j in range(ord('A'), ord('Z')+1):\r\n",
    "            for k in range(ord('A'), ord('Z')+1):\r\n",
    "                key = Vigenere(chr(i)+chr(j)+chr(k))\r\n",
    "                yield key.decrypt(ciphertext)"
   ],
   "outputs": [],
   "metadata": {}
  },
  {
   "cell_type": "code",
   "execution_count": 11,
   "source": [
    "ciphertext = 'LAFLUIWOYWPADUFHSNBVSWVNDZQDUFRBPLUYQPLWLPHZRLUEDUBSYMIPRDIJHTYQUCUZYLKFRSKHZBUHULUEKPQFOYLYSSAMWOCWHZOLGDTDDPPOFDDTGOPYUDGWOYOSDRYKVVDVLAULRZYGWPLJZYQKYPTWVLJIAFHHSWOMUVDDAPLMJLUEPVLRNPDWFXWMQAFHZSEQCFAGQDFLJFLHLDSWCLMQLFXUBULBDUBVPVWFQHWYUHRHJGSOCUZZXAGFVLILQVAFDARKPQLZCQAGULJBUCZAMPL'\r\n",
    "print(Counter(ciphertext))"
   ],
   "outputs": [
    {
     "output_type": "stream",
     "name": "stdout",
     "text": [
      "Counter({'L': 28, 'U': 22, 'D': 20, 'P': 17, 'F': 16, 'W': 15, 'Y': 14, 'A': 13, 'H': 13, 'Q': 13, 'V': 12, 'Z': 12, 'S': 11, 'O': 10, 'R': 9, 'B': 8, 'G': 8, 'M': 7, 'J': 7, 'C': 7, 'K': 6, 'I': 5, 'E': 4, 'T': 4, 'N': 3, 'X': 3})\n"
     ]
    }
   ],
   "metadata": {}
  },
  {
   "cell_type": "code",
   "execution_count": 12,
   "source": [
    "pairs = Counter()\r\n",
    "for i in range(len(ciphertext)-1):\r\n",
    "    pairs[ciphertext[i:i+2]] += 1\r\n",
    "print(pairs)"
   ],
   "outputs": [
    {
     "output_type": "stream",
     "name": "stdout",
     "text": [
      "Counter({'LU': 5, 'PL': 5, 'AF': 4, 'WO': 4, 'DU': 4, 'HZ': 4, 'UL': 4, 'VL': 4, 'LJ': 4, 'FL': 3, 'OY': 3, 'FH': 3, 'SW': 3, 'YQ': 3, 'UE': 3, 'UB': 3, 'ZY': 3, 'BU': 3, 'DD': 3, 'AG': 3, 'LA': 2, 'WP': 2, 'UF': 2, 'HS': 2, 'BV': 2, 'WV': 2, 'QD': 2, 'FR': 2, 'UC': 2, 'CU': 2, 'UZ': 2, 'YL': 2, 'UH': 2, 'KP': 2, 'PQ': 2, 'AM': 2, 'OC': 2, 'DT': 2, 'FD': 2, 'YU': 2, 'GW': 2, 'VD': 2, 'LR': 2, 'DA': 2, 'LM': 2, 'PV': 2, 'WF': 2, 'FX': 2, 'MQ': 2, 'QA': 2, 'QL': 2, 'UI': 1, 'IW': 1, 'YW': 1, 'PA': 1, 'AD': 1, 'SN': 1, 'NB': 1, 'VS': 1, 'VN': 1, 'ND': 1, 'DZ': 1, 'ZQ': 1, 'RB': 1, 'BP': 1, 'UY': 1, 'QP': 1, 'LW': 1, 'WL': 1, 'LP': 1, 'PH': 1, 'ZR': 1, 'RL': 1, 'ED': 1, 'BS': 1, 'SY': 1, 'YM': 1, 'MI': 1, 'IP': 1, 'PR': 1, 'RD': 1, 'DI': 1, 'IJ': 1, 'JH': 1, 'HT': 1, 'TY': 1, 'QU': 1, 'LK': 1, 'KF': 1, 'RS': 1, 'SK': 1, 'KH': 1, 'ZB': 1, 'HU': 1, 'EK': 1, 'QF': 1, 'FO': 1, 'LY': 1, 'YS': 1, 'SS': 1, 'SA': 1, 'MW': 1, 'CW': 1, 'WH': 1, 'ZO': 1, 'OL': 1, 'LG': 1, 'GD': 1, 'TD': 1, 'DP': 1, 'PP': 1, 'PO': 1, 'OF': 1, 'TG': 1, 'GO': 1, 'OP': 1, 'PY': 1, 'UD': 1, 'DG': 1, 'YO': 1, 'OS': 1, 'SD': 1, 'DR': 1, 'RY': 1, 'YK': 1, 'KV': 1, 'VV': 1, 'DV': 1, 'AU': 1, 'RZ': 1, 'YG': 1, 'JZ': 1, 'QK': 1, 'KY': 1, 'YP': 1, 'PT': 1, 'TW': 1, 'JI': 1, 'IA': 1, 'HH': 1, 'OM': 1, 'MU': 1, 'UV': 1, 'AP': 1, 'MJ': 1, 'JL': 1, 'EP': 1, 'RN': 1, 'NP': 1, 'PD': 1, 'DW': 1, 'XW': 1, 'WM': 1, 'ZS': 1, 'SE': 1, 'EQ': 1, 'QC': 1, 'CF': 1, 'FA': 1, 'GQ': 1, 'DF': 1, 'JF': 1, 'LH': 1, 'HL': 1, 'LD': 1, 'DS': 1, 'WC': 1, 'CL': 1, 'LF': 1, 'XU': 1, 'LB': 1, 'BD': 1, 'VP': 1, 'VW': 1, 'FQ': 1, 'QH': 1, 'HW': 1, 'WY': 1, 'HR': 1, 'RH': 1, 'HJ': 1, 'JG': 1, 'GS': 1, 'SO': 1, 'ZZ': 1, 'ZX': 1, 'XA': 1, 'GF': 1, 'FV': 1, 'LI': 1, 'IL': 1, 'LQ': 1, 'QV': 1, 'VA': 1, 'AR': 1, 'RK': 1, 'LZ': 1, 'ZC': 1, 'CQ': 1, 'GU': 1, 'JB': 1, 'CZ': 1, 'ZA': 1, 'MP': 1})\n"
     ]
    }
   ],
   "metadata": {}
  },
  {
   "cell_type": "code",
   "execution_count": 13,
   "source": [
    "trips = Counter()\r\n",
    "for i in range(len(ciphertext)-2):\r\n",
    "    trips[ciphertext[i:i+3]] += 1\r\n",
    "print(trips)"
   ],
   "outputs": [
    {
     "output_type": "stream",
     "name": "stdout",
     "text": [
      "Counter({'LUE': 3, 'WOY': 2, 'DUF': 2, 'DUB': 2, 'CUZ': 2, 'KPQ': 2, 'AFH': 2, 'LAF': 1, 'AFL': 1, 'FLU': 1, 'LUI': 1, 'UIW': 1, 'IWO': 1, 'OYW': 1, 'YWP': 1, 'WPA': 1, 'PAD': 1, 'ADU': 1, 'UFH': 1, 'FHS': 1, 'HSN': 1, 'SNB': 1, 'NBV': 1, 'BVS': 1, 'VSW': 1, 'SWV': 1, 'WVN': 1, 'VND': 1, 'NDZ': 1, 'DZQ': 1, 'ZQD': 1, 'QDU': 1, 'UFR': 1, 'FRB': 1, 'RBP': 1, 'BPL': 1, 'PLU': 1, 'LUY': 1, 'UYQ': 1, 'YQP': 1, 'QPL': 1, 'PLW': 1, 'LWL': 1, 'WLP': 1, 'LPH': 1, 'PHZ': 1, 'HZR': 1, 'ZRL': 1, 'RLU': 1, 'UED': 1, 'EDU': 1, 'UBS': 1, 'BSY': 1, 'SYM': 1, 'YMI': 1, 'MIP': 1, 'IPR': 1, 'PRD': 1, 'RDI': 1, 'DIJ': 1, 'IJH': 1, 'JHT': 1, 'HTY': 1, 'TYQ': 1, 'YQU': 1, 'QUC': 1, 'UCU': 1, 'UZY': 1, 'ZYL': 1, 'YLK': 1, 'LKF': 1, 'KFR': 1, 'FRS': 1, 'RSK': 1, 'SKH': 1, 'KHZ': 1, 'HZB': 1, 'ZBU': 1, 'BUH': 1, 'UHU': 1, 'HUL': 1, 'ULU': 1, 'UEK': 1, 'EKP': 1, 'PQF': 1, 'QFO': 1, 'FOY': 1, 'OYL': 1, 'YLY': 1, 'LYS': 1, 'YSS': 1, 'SSA': 1, 'SAM': 1, 'AMW': 1, 'MWO': 1, 'WOC': 1, 'OCW': 1, 'CWH': 1, 'WHZ': 1, 'HZO': 1, 'ZOL': 1, 'OLG': 1, 'LGD': 1, 'GDT': 1, 'DTD': 1, 'TDD': 1, 'DDP': 1, 'DPP': 1, 'PPO': 1, 'POF': 1, 'OFD': 1, 'FDD': 1, 'DDT': 1, 'DTG': 1, 'TGO': 1, 'GOP': 1, 'OPY': 1, 'PYU': 1, 'YUD': 1, 'UDG': 1, 'DGW': 1, 'GWO': 1, 'OYO': 1, 'YOS': 1, 'OSD': 1, 'SDR': 1, 'DRY': 1, 'RYK': 1, 'YKV': 1, 'KVV': 1, 'VVD': 1, 'VDV': 1, 'DVL': 1, 'VLA': 1, 'LAU': 1, 'AUL': 1, 'ULR': 1, 'LRZ': 1, 'RZY': 1, 'ZYG': 1, 'YGW': 1, 'GWP': 1, 'WPL': 1, 'PLJ': 1, 'LJZ': 1, 'JZY': 1, 'ZYQ': 1, 'YQK': 1, 'QKY': 1, 'KYP': 1, 'YPT': 1, 'PTW': 1, 'TWV': 1, 'WVL': 1, 'VLJ': 1, 'LJI': 1, 'JIA': 1, 'IAF': 1, 'FHH': 1, 'HHS': 1, 'HSW': 1, 'SWO': 1, 'WOM': 1, 'OMU': 1, 'MUV': 1, 'UVD': 1, 'VDD': 1, 'DDA': 1, 'DAP': 1, 'APL': 1, 'PLM': 1, 'LMJ': 1, 'MJL': 1, 'JLU': 1, 'UEP': 1, 'EPV': 1, 'PVL': 1, 'VLR': 1, 'LRN': 1, 'RNP': 1, 'NPD': 1, 'PDW': 1, 'DWF': 1, 'WFX': 1, 'FXW': 1, 'XWM': 1, 'WMQ': 1, 'MQA': 1, 'QAF': 1, 'FHZ': 1, 'HZS': 1, 'ZSE': 1, 'SEQ': 1, 'EQC': 1, 'QCF': 1, 'CFA': 1, 'FAG': 1, 'AGQ': 1, 'GQD': 1, 'QDF': 1, 'DFL': 1, 'FLJ': 1, 'LJF': 1, 'JFL': 1, 'FLH': 1, 'LHL': 1, 'HLD': 1, 'LDS': 1, 'DSW': 1, 'SWC': 1, 'WCL': 1, 'CLM': 1, 'LMQ': 1, 'MQL': 1, 'QLF': 1, 'LFX': 1, 'FXU': 1, 'XUB': 1, 'UBU': 1, 'BUL': 1, 'ULB': 1, 'LBD': 1, 'BDU': 1, 'UBV': 1, 'BVP': 1, 'VPV': 1, 'PVW': 1, 'VWF': 1, 'WFQ': 1, 'FQH': 1, 'QHW': 1, 'HWY': 1, 'WYU': 1, 'YUH': 1, 'UHR': 1, 'HRH': 1, 'RHJ': 1, 'HJG': 1, 'JGS': 1, 'GSO': 1, 'SOC': 1, 'OCU': 1, 'UZZ': 1, 'ZZX': 1, 'ZXA': 1, 'XAG': 1, 'AGF': 1, 'GFV': 1, 'FVL': 1, 'VLI': 1, 'LIL': 1, 'ILQ': 1, 'LQV': 1, 'QVA': 1, 'VAF': 1, 'AFD': 1, 'FDA': 1, 'DAR': 1, 'ARK': 1, 'RKP': 1, 'PQL': 1, 'QLZ': 1, 'LZC': 1, 'ZCQ': 1, 'CQA': 1, 'QAG': 1, 'AGU': 1, 'GUL': 1, 'ULJ': 1, 'LJB': 1, 'JBU': 1, 'BUC': 1, 'UCZ': 1, 'CZA': 1, 'ZAM': 1, 'AMP': 1, 'MPL': 1})\n"
     ]
    }
   ],
   "metadata": {}
  },
  {
   "cell_type": "code",
   "execution_count": 14,
   "source": [
    "[i.start() for i in re.finditer('LU', ciphertext)]"
   ],
   "outputs": [
    {
     "output_type": "execute_result",
     "data": {
      "text/plain": [
       "[3, 33, 45, 81, 177]"
      ]
     },
     "metadata": {},
     "execution_count": 14
    }
   ],
   "metadata": {}
  },
  {
   "cell_type": "code",
   "execution_count": 15,
   "source": [
    "filter_size = 6\r\n",
    "filters = set(word.upper() for word in words.words() if len(word) == filter_size)\r\n",
    "candidates = []\r\n",
    "for decryption in next_key(ciphertext):\r\n",
    "    found = []\r\n",
    "    for i in range(len(decryption)-filter_size+1):\r\n",
    "        if decryption[i:i+filter_size] in filters:\r\n",
    "            found.append(decryption[i:i+filter_size])\r\n",
    "            if len(found) == 2:\r\n",
    "                candidates.append((found, decryption))\r\n",
    "                break\r\n",
    "print(len(candidates))\r\n",
    "candidates"
   ],
   "outputs": [
    {
     "output_type": "stream",
     "name": "stdout",
     "text": [
      "6\n"
     ]
    },
    {
     "output_type": "execute_result",
     "data": {
      "text/plain": [
       "[(['TOPASS', 'PROFIT'],\n",
       "  'ITHINKTHATICANHELPYOUTOPASSANHOURINANINTERESTINGANDPROFITABLEMANNERSAIDHOLMESDRAWINGHISCHAIRUPTOTHETABLEIAMFAIRLYFAMILIARWITHALLFORMSOFSECRETWRITINGSANDAMMYSELFTHEAUTHOROFATRIFLINGMONOGRAPHUPONTHESUBJECTINWHICHIANALYZEONEHUNDREDANDSIXTYSEPARATECIPHERSBUTICONFESSTHATTHISISENTIRELYNEWTOME'),\n",
       " (['UNWORK', 'WORKER'],\n",
       "  'GWHGQKRKARLCYQHCOPWRURRPYVSYQHMXRGQALLNRHRCVTGQGYQDNUODLTYELCPALQEPVAGGHMOMCVDPDWGQGFLSAKAGUUNWORKERDBJHIYPFYLRJBFYPIJLAPZIRKAJOFMUMQRFQHCPHTUUIRLNEVALGAKPYQHLDWHCDURKOPRFYWRGILGQGKRNMJRYSHSSOLWHCVUZMEAWILZHGFHGDNYOYXHOLHHSQDPHDYQDQLXRBSCSAPDTCFINKEPVBSWIARNDHSQWHYWTFLSGVELWIPHLWQEUWOKH'),\n",
       " (['ADELIA', 'DELIAN'],\n",
       "  'EUDEOGPIWPJYWODAMLUPQPPLWTOWODKVNEOWJJJPFNATPEOCWOZLSKBJPWCHANWJOANTWEEDKMIATZNBSEOCDJOYIWESQLUKPIAPBXHFEWNBWJNHZBWNEHJWNXEPIWHMBKSIOPBOFYNFPSSEPJJCTWJEWINUOFHBUDABQPIKNPBWUNEGHEOCIPJKHNWQDQQKJUDATQXKAYUEJXDEDDEBJWMUVFKJFDQOZNFZWOZOJTPZOAQWNBPADELIANTXQUEYPJBFOOUDWUPDJOETAJUENFHUOASUKIF'),\n",
       " (['AMBAGE', 'CLAUDE'],\n",
       "  'AMBAGELAULBWSGBWEJQHOLHJSLMSGBGNLAGUFBHLXLWLNAGASGXHKIXBNSUFWFUFGYJLUAWBGEGWLXJTQAGAZBMUAUAKOHMILAYLTVDXCSFZSBLDRZSFCDBUJPCLAUDEZGKGKHZKXWJXNOKCLBHYLUFWUEFSKXFXMBWTOLAIJHZSMLAYFAGAEHHGZLSIBMIIFMBWLOTCYUMCFPBAVBATHSESRXIFXBMGXJXXSGXKBRLRMWIUJTNWVCHAYJLVMMCUHHXXMKMBSMNZBMALYFMCJXFQGYOMIEX'),\n",
       " (['LAMPER', 'PASTED'],\n",
       "  'VSSVMVGGLGHNNMSRKALNFGNANRDNMSBTCVMLAHYGDCRREVMRNMOCQZSHENAWRLLAMPERLVCSBKXRROEZHVMRUHDPGLVQFCSZGGPGZMYDTNLQNHCYXQNLTYHLEVTGGLYKQBQXFNQFDNEDEJQTGHYTRLACLZLJFDWSSSRZFGGZENQNSCVEWVMRZNYBFCNOSHOZASSRRFOIPPSTAVSVBSVZYNKJMDZADSHMOEDONMOFHIGXDROLEZERBTCGPERMHSTPNYSDDFSSNSEUHDVRPASTEDWLMPJSZZD'),\n",
       " (['THIASI', 'NEPHEW'],\n",
       "  'VIPVCSGWIGXKNCPRAXLDCGDXNHANCPBJZVCIAXVGTZRHBVCONCLCGWSXBNQTRBIACMEHIVSPBAURHLEPEVCOUXAPWIVGCCIWGWMGPJYTQNBNNXZYNNNBQYXIELQGWIYANBGUFDNFTKETBJGQGXVTHIASIZBGFTTSIPRPCGWWEDNNIZVUTVCOZDVBVZNEPHEWAIPRHCOYMPIQALPVRPVPVNAGMTWATPHCLETLNCLFXFGNAREIEPBRRQCWMEHJHIQPDVSTAFIPNIBUXAVHMAIQETTLCMJIWZT')]"
      ]
     },
     "metadata": {},
     "execution_count": 15
    }
   ],
   "metadata": {}
  },
  {
   "cell_type": "code",
   "execution_count": 16,
   "source": [
    "key = Vigenere('CGX')\r\n",
    "plaintext = key.decrypt(ciphertext)\r\n",
    "print(plaintext)"
   ],
   "outputs": [
    {
     "output_type": "stream",
     "name": "stdout",
     "text": [
      "ITHINKTHATICANHELPYOUTOPASSANHOURINANINTERESTINGANDPROFITABLEMANNERSAIDHOLMESDRAWINGHISCHAIRUPTOTHETABLEIAMFAIRLYFAMILIARWITHALLFORMSOFSECRETWRITINGSANDAMMYSELFTHEAUTHOROFATRIFLINGMONOGRAPHUPONTHESUBJECTINWHICHIANALYZEONEHUNDREDANDSIXTYSEPARATECIPHERSBUTICONFESSTHATTHISISENTIRELYNEWTOME\n"
     ]
    }
   ],
   "metadata": {}
  },
  {
   "cell_type": "code",
   "execution_count": 17,
   "source": [
    "re.search('PVLRNPDWF', ciphertext)"
   ],
   "outputs": [
    {
     "output_type": "execute_result",
     "data": {
      "text/plain": [
       "<re.Match object; span=(180, 189), match='PVLRNPDWF'>"
      ]
     },
     "metadata": {},
     "execution_count": 17
    }
   ],
   "metadata": {}
  },
  {
   "cell_type": "code",
   "execution_count": 18,
   "source": [
    "plaintext[180:189]"
   ],
   "outputs": [
    {
     "output_type": "execute_result",
     "data": {
      "text/plain": [
       "'MONOGRAPH'"
      ]
     },
     "metadata": {},
     "execution_count": 18
    }
   ],
   "metadata": {}
  },
  {
   "cell_type": "markdown",
   "source": [
    "# Mechanised Cryptography 1"
   ],
   "metadata": {}
  },
  {
   "cell_type": "code",
   "execution_count": 19,
   "source": [
    "from cypher import Enigma"
   ],
   "outputs": [],
   "metadata": {}
  },
  {
   "cell_type": "code",
   "execution_count": 20,
   "source": [
    "machine = Enigma()\r\n",
    "machine.add_wheel('UWYGADFPVZBECKMTHXSLRINQOJ')\r\n",
    "machine.set_reflector('YRUHQSLDPXNGOKMIEBFZCWVJAT')"
   ],
   "outputs": [],
   "metadata": {}
  },
  {
   "cell_type": "code",
   "execution_count": 21,
   "source": [
    "machine.engage('ZYDNI')"
   ],
   "outputs": [
    {
     "output_type": "execute_result",
     "data": {
      "text/plain": [
       "'ULTRA'"
      ]
     },
     "metadata": {},
     "execution_count": 21
    }
   ],
   "metadata": {}
  },
  {
   "cell_type": "markdown",
   "source": [
    "# Mechanised Cryptography 2"
   ],
   "metadata": {}
  },
  {
   "cell_type": "code",
   "execution_count": 22,
   "source": [
    "from cypher import Enigma"
   ],
   "outputs": [],
   "metadata": {}
  },
  {
   "cell_type": "code",
   "execution_count": 23,
   "source": [
    "machine = Enigma()\r\n",
    "machine.add_wheel('UWYGADFPVZBECKMTHXSLRINQOJ', offset=4)\r\n",
    "machine.set_reflector('YRUHQSLDPXNGOKMIEBFZCWVJAT')"
   ],
   "outputs": [],
   "metadata": {}
  },
  {
   "cell_type": "code",
   "execution_count": 24,
   "source": [
    "machine.engage('QHSGUWIG')"
   ],
   "outputs": [
    {
     "output_type": "execute_result",
     "data": {
      "text/plain": [
       "'XVPURPLE'"
      ]
     },
     "metadata": {},
     "execution_count": 24
    }
   ],
   "metadata": {}
  },
  {
   "cell_type": "markdown",
   "source": [
    "# Mechanised Cryptography 3"
   ],
   "metadata": {}
  },
  {
   "cell_type": "code",
   "execution_count": 25,
   "source": [
    "from cypher import Enigma"
   ],
   "outputs": [],
   "metadata": {}
  },
  {
   "cell_type": "code",
   "execution_count": 26,
   "source": [
    "machine = Enigma()\r\n",
    "machine.set_plugboard('AB SZ UY GH LQ EN')\r\n",
    "machine.add_wheel('AJPCZWRLFBDKOTYUQGENHXMIVS')\r\n",
    "machine.add_wheel('UWYGADFPVZBECKMTHXSLRINQOJ', offset=4)\r\n",
    "machine.add_wheel('TAGBPCSDQEUFVNZHYIXJWLRKOM', offset=1)\r\n",
    "machine.set_reflector('YRUHQSLDPXNGOKMIEBFZCWVJAT')"
   ],
   "outputs": [],
   "metadata": {}
  },
  {
   "cell_type": "code",
   "execution_count": 27,
   "source": [
    "machine.engage('GYHRVFLRXY')"
   ],
   "outputs": [
    {
     "output_type": "execute_result",
     "data": {
      "text/plain": [
       "'BLITZKRIEG'"
      ]
     },
     "metadata": {},
     "execution_count": 27
    }
   ],
   "metadata": {}
  },
  {
   "cell_type": "code",
   "execution_count": 28,
   "source": [
    "x = machine.engage('Hello world')\r\n",
    "print(x)\r\n",
    "y = machine.engage(x)\r\n",
    "print(y)"
   ],
   "outputs": [
    {
     "output_type": "stream",
     "name": "stdout",
     "text": [
      "ZGWINVCIJK\n",
      "HELLOWORLD\n"
     ]
    }
   ],
   "metadata": {}
  },
  {
   "cell_type": "markdown",
   "source": [
    "# Digital Cryptography 2"
   ],
   "metadata": {}
  },
  {
   "cell_type": "code",
   "execution_count": 29,
   "source": [
    "binary = [0b00111111, 0b00101010, 0b00111110, 0b00100000, 0b00101011]\r\n",
    "hello = 'HELLO'\r\n",
    "for i in range(5):\r\n",
    "    print(chr(ord(hello[i])^binary[i]))"
   ],
   "outputs": [
    {
     "output_type": "stream",
     "name": "stdout",
     "text": [
      "w\n",
      "o\n",
      "r\n",
      "l\n",
      "d\n"
     ]
    }
   ],
   "metadata": {}
  },
  {
   "cell_type": "markdown",
   "source": [
    "# Digital Cryptography 3"
   ],
   "metadata": {}
  },
  {
   "cell_type": "code",
   "execution_count": 30,
   "source": [
    "key = [2, 1, 3, 1, 2, 5, 7, 2]\r\n",
    "cipher = ['01100010', '01110101', '01111001', '01100011', '01110101', '01100110', '01101001']\r\n",
    "ciphertext = ''.join(chr(int(b, 2)) for b in cipher)\r\n",
    "ciphertext"
   ],
   "outputs": [
    {
     "output_type": "execute_result",
     "data": {
      "text/plain": [
       "'buycufi'"
      ]
     },
     "metadata": {},
     "execution_count": 30
    }
   ],
   "metadata": {}
  },
  {
   "cell_type": "code",
   "execution_count": 31,
   "source": [
    "plain = [[] for _ in range(7)]\r\n",
    "for i in range(len(key)):\r\n",
    "    for j in range(len(cipher)):\r\n",
    "        plain[j].append(cipher[(j-key[i])%len(cipher)][i])\r\n",
    "for i in range(len(plain)):\r\n",
    "    plain[i] = ''.join(plain[i])\r\n",
    "plaintext = ''.join(chr(int(b, 2)) for b in plain)\r\n",
    "plaintext"
   ],
   "outputs": [
    {
     "output_type": "execute_result",
     "data": {
      "text/plain": [
       "'bitwise'"
      ]
     },
     "metadata": {},
     "execution_count": 31
    }
   ],
   "metadata": {}
  },
  {
   "cell_type": "markdown",
   "source": [
    "# Digital Cryptography 5"
   ],
   "metadata": {}
  },
  {
   "cell_type": "code",
   "execution_count": 32,
   "source": [
    "from cypher import BES"
   ],
   "outputs": [],
   "metadata": {}
  },
  {
   "cell_type": "code",
   "execution_count": 33,
   "source": [
    "key = BES(['YS', 'BX'])\r\n",
    "key.decrypt(chr(0b10010111)+chr(0b10110101))"
   ],
   "outputs": [
    {
     "output_type": "execute_result",
     "data": {
      "text/plain": [
       "'FN'"
      ]
     },
     "metadata": {},
     "execution_count": 33
    }
   ],
   "metadata": {}
  },
  {
   "cell_type": "code",
   "execution_count": 34,
   "source": [
    "x = BES(['TE', 'ST', 'IN', 'GT', 'HI', 'SO', 'UT'])\r\n",
    "y = x.encrypt('This is a test.')\r\n",
    "print(y)\r\n",
    "z = x.decrypt(y)\r\n",
    "print(z)"
   ],
   "outputs": [
    {
     "output_type": "stream",
     "name": "stdout",
     "text": [
      "ã¤Ô*W þÖó©þ-YÌ\n",
      "This is a test.\n"
     ]
    }
   ],
   "metadata": {}
  }
 ],
 "metadata": {
  "interpreter": {
   "hash": "b170daffc966f5f9df28da86e9f5335ab0e92a6b0b144a0f4f4b87bd4331f06b"
  },
  "kernelspec": {
   "display_name": "Python 3.9.6 64-bit ('.venv': venv)",
   "name": "python3"
  },
  "language_info": {
   "codemirror_mode": {
    "name": "ipython",
    "version": 3
   },
   "file_extension": ".py",
   "mimetype": "text/x-python",
   "name": "python",
   "nbconvert_exporter": "python",
   "pygments_lexer": "ipython3",
   "version": "3.9.6"
  },
  "orig_nbformat": 4
 },
 "nbformat": 4,
 "nbformat_minor": 2
}